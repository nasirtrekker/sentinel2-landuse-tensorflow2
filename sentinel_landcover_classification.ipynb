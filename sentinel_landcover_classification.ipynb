{
  "nbformat": 4,
  "nbformat_minor": 0,
  "metadata": {
    "colab": {
      "name": "sentinel_landcover_classification.ipynb",
      "provenance": []
    },
    "kernelspec": {
      "name": "python3",
      "display_name": "Python 3"
    },
    "accelerator": "GPU"
  },
  "cells": [
    {
      "cell_type": "markdown",
      "metadata": {
        "id": "9hfqCM7xqHnw",
        "colab_type": "text"
      },
      "source": [
        "### Land cover classification from satellite data with Tensorflow2\n",
        "Using the Sentinel satellite data to perform land cover/use classfication\n",
        "\n",
        "Refereence to data curation:\n",
        "\n",
        "[1] Eurosat: A novel dataset and deep learning benchmark for land use and land cover classification. Patrick Helber, Benjamin Bischke, Andreas Dengel, Damian Borth. IEEE Journal of Selected Topics in Applied Earth Observations and Remote Sensing, 2019.\n",
        "\n",
        "[2] Introducing EuroSAT: A Novel Dataset and Deep Learning Benchmark for Land Use and Land Cover Classification. Patrick Helber, Benjamin Bischke, Andreas Dengel. 2018 IEEE International Geoscience and Remote Sensing Symposium, 2018.\n",
        "\n",
        "The data can be accessed through the following link: EuroSAT : Land Use and Land Cover Classification with Sentinel-2.\n",
        "\n",
        "@nasiruddin "
      ]
    },
    {
      "cell_type": "code",
      "metadata": {
        "id": "GPYjUJPV3xUJ",
        "colab_type": "code",
        "colab": {}
      },
      "source": [
        "!pip install np_utils"
      ],
      "execution_count": null,
      "outputs": []
    },
    {
      "cell_type": "markdown",
      "metadata": {
        "id": "OVXqzvFHqh1l",
        "colab_type": "text"
      },
      "source": [
        ""
      ]
    },
    {
      "cell_type": "code",
      "metadata": {
        "id": "XxaRqGVGpUkL",
        "colab_type": "code",
        "colab": {}
      },
      "source": [
        "# Import libraries \n",
        "import os\n",
        "import zipfile\n",
        "import matplotlib\n",
        "from imutils import paths\n",
        "import matplotlib.pyplot as plt\n",
        "import numpy as np\n",
        "import pandas as pd\n",
        "import cv2\n",
        "import sys\n",
        "import matplotlib.image as mpimg\n",
        "from glob import glob \n",
        "%matplotlib inline\n",
        "import matplotlib.pyplot as plt\n",
        "from matplotlib.colors import LogNorm\n",
        "#Keras\n",
        "import tensorflow as tf\n",
        "from keras.utils.np_utils import to_categorical # convert to one-hot-encoding\n",
        "from keras.preprocessing.image import ImageDataGenerator\n",
        "from keras import layers, models\n",
        "from keras import Model\n",
        "from keras.optimizers import Adam\n",
        "from keras.callbacks import ReduceLROnPlateau, EarlyStopping, LearningRateScheduler\n",
        "from keras import backend as K\n",
        "from keras.utils.vis_utils import plot_model\n",
        "from keras.applications.vgg16 import VGG16, preprocess_input\n",
        "#sklearn helpers\n",
        "from sklearn.preprocessing import LabelBinarizer\n",
        "from sklearn.metrics import classification_report, confusion_matrix\n",
        "from sklearn import preprocessing\n",
        "from sklearn.manifold import TSNE"
      ],
      "execution_count": null,
      "outputs": []
    },
    {
      "cell_type": "code",
      "metadata": {
        "colab_type": "code",
        "id": "-XbfkU7BeziQ",
        "colab": {}
      },
      "source": [
        "import tensorflow\n",
        "print(tensorflow.__version__)"
      ],
      "execution_count": null,
      "outputs": []
    },
    {
      "cell_type": "code",
      "metadata": {
        "id": "3gjHS4jF92nn",
        "colab_type": "code",
        "colab": {}
      },
      "source": [
        ""
      ],
      "execution_count": null,
      "outputs": []
    },
    {
      "cell_type": "code",
      "metadata": {
        "colab_type": "code",
        "id": "sXnDmXR7RDr2",
        "colab": {
          "base_uri": "https://localhost:8080/",
          "height": 51
        },
        "outputId": "230c8c7a-13fd-46b3-c5b1-9c6330cfd846"
      },
      "source": [
        "%tensorflow_version 2.x\n",
        "import tensorflow as tf\n",
        "device_name = tf.test.gpu_device_name()\n",
        "if device_name != '/device:GPU:0':\n",
        "  raise SystemError('GPU device not found')\n",
        "print('Found GPU at: {}'.format(device_name))"
      ],
      "execution_count": null,
      "outputs": [
        {
          "output_type": "stream",
          "text": [
            "TensorFlow 2.x selected.\n",
            "Found GPU at: /device:GPU:0\n"
          ],
          "name": "stdout"
        }
      ]
    },
    {
      "cell_type": "code",
      "metadata": {
        "id": "GRHEJDXw4X1A",
        "colab_type": "code",
        "colab": {}
      },
      "source": [
        "#Download the file and save it in a temporary placeholder '/tmp'\n",
        "!rm -rf eurosat.zip\n",
        "!rm -rf eurosat/\n",
        "!wget --no-check-certificate \\\n",
        "  http://madm.dfki.de/files/sentinel/EuroSAT.zip \\\n",
        "  -O /tmp/eurosat.zip"
      ],
      "execution_count": null,
      "outputs": []
    },
    {
      "cell_type": "code",
      "metadata": {
        "id": "ILFj2Y-74YDo",
        "colab_type": "code",
        "colab": {}
      },
      "source": [
        "#Unzip the file in '/tmp'\n",
        "local_zip = '/tmp/eurosat.zip'\n",
        "zip_ref = zipfile.ZipFile(local_zip, 'r')\n",
        "zip_ref.extractall('/tmp')\n",
        "zip_ref.close()"
      ],
      "execution_count": null,
      "outputs": []
    },
    {
      "cell_type": "code",
      "metadata": {
        "id": "2x_udkWe4YPG",
        "colab_type": "code",
        "colab": {}
      },
      "source": [
        "#Split the data into train, valid, test folders\n",
        "base_dir = \"/tmp/2750\""
      ],
      "execution_count": null,
      "outputs": []
    },
    {
      "cell_type": "code",
      "metadata": {
        "id": "sIDv-OrS40RS",
        "colab_type": "code",
        "colab": {}
      },
      "source": [
        "Classes = [\"AnnualCrop\",\"HerbaceousVegetation\",\"Industrial\",\"PermanentCrop\",\"River\",\"Forest\",\"Highway\",\"Pasture\",\"Residential\",\"SeaLake\"]"
      ],
      "execution_count": null,
      "outputs": []
    },
    {
      "cell_type": "code",
      "metadata": {
        "id": "qIhSLXiK45Un",
        "colab_type": "code",
        "colab": {}
      },
      "source": [
        "NC = len(Classes)\n",
        "Ncols = 5\n",
        "Nsamples = []\n",
        "fig, ax = plt.subplots(nrows = NC, ncols = Ncols, figsize = (5,15))\n",
        "fig.subplots_adjust(hspace=0.1, wspace=0.1)\n",
        "for (i,Class) in enumerate(Classes):\n",
        "  \n",
        "  Class_dir = os.path.join(base_dir, Class)\n",
        "  Class_files = os.listdir(Class_dir)\n",
        "  nsamples = len(Class_files)\n",
        "  Nsamples.append(nsamples)\n",
        "  Class_samples = Class_files[:Ncols]\n",
        "  \n",
        "  for j in range(Ncols):\n",
        "    \n",
        "    img_path = os.path.join(Class_dir, Class_samples[j])\n",
        "    img = mpimg.imread(img_path)\n",
        "    ax[i, j].imshow(img)\n",
        "    ax[i,0].set_ylabel(Class, fontsize = 10)\n",
        "    ax[i,j].set_xticks([])\n",
        "    ax[i,j].set_yticks([])\n",
        "\n",
        "plt.tight_layout()  "
      ],
      "execution_count": null,
      "outputs": []
    },
    {
      "cell_type": "code",
      "metadata": {
        "id": "ev6pZuvY496L",
        "colab_type": "code",
        "colab": {}
      },
      "source": [
        "plt.figure(figsize = (20,5))\n",
        "plt.bar(Classes, Nsamples, width = 0.5, color = \"violet\", label='Alone')\n",
        "plt.ylabel(\"Number of instances in each class\", fontsize  = 10)"
      ],
      "execution_count": null,
      "outputs": []
    },
    {
      "cell_type": "markdown",
      "metadata": {
        "id": "OGdHxjBg6LMJ",
        "colab_type": "text"
      },
      "source": [
        "### VGG16 Transfer learning "
      ]
    },
    {
      "cell_type": "code",
      "metadata": {
        "id": "fBw2HTbl5D8i",
        "colab_type": "code",
        "colab": {}
      },
      "source": [
        "## Variables\n",
        "LR = 0.001\n",
        "BATCH_SIZE = 64\n",
        "NEPOCHS = 15\n",
        "IMG_WIDTH, IMG_HEIGHT = 75, 75\n",
        "VALIDATION_RATIO = 0.2"
      ],
      "execution_count": null,
      "outputs": []
    },
    {
      "cell_type": "code",
      "metadata": {
        "id": "QKRnZ6Wf6GOM",
        "colab_type": "code",
        "colab": {}
      },
      "source": [
        "## image preprocessing\n",
        "datagen = ImageDataGenerator(\n",
        "    rescale=1./255,\n",
        "    shear_range=0.2,\n",
        "    zoom_range=0.2,\n",
        "    rotation_range = 20,\n",
        "    fill_mode = 'nearest',\n",
        "    horizontal_flip=True,\n",
        "    \n",
        "    validation_split=VALIDATION_RATIO) # set validation split\n",
        "\n",
        "train_generator = datagen.flow_from_directory(\n",
        "    base_dir,\n",
        "    target_size=(IMG_WIDTH, IMG_HEIGHT),\n",
        "    batch_size=BATCH_SIZE,\n",
        "    class_mode='categorical',\n",
        "    subset='training') \n",
        "\n",
        "validation_generator = datagen.flow_from_directory(\n",
        "    base_dir, \n",
        "    target_size=(IMG_WIDTH, IMG_HEIGHT),\n",
        "    batch_size=BATCH_SIZE,\n",
        "    class_mode='categorical',\n",
        "    subset='validation') "
      ],
      "execution_count": null,
      "outputs": []
    },
    {
      "cell_type": "code",
      "metadata": {
        "id": "I_F1cbkv6kNp",
        "colab_type": "code",
        "colab": {}
      },
      "source": [
        "# Define training model\n",
        "def vgg_model(retrain = False):\n",
        "    \"\"\"\n",
        "    DENSNET model + 1 deep layer \n",
        "    \"\"\"\n",
        "    baseModel = VGG16(weights=\"imagenet\", include_top=False, input_shape = (IMG_WIDTH, IMG_HEIGHT, 3))\n",
        "    #If retrain is set to False, freeze the VGG16 layers:\n",
        "    if retrain == False:\n",
        "        for layer in baseModel.layers:\n",
        "\t          layer.trainable = False\n",
        "    x = baseModel.output\n",
        "    x = layers.GlobalMaxPooling2D()(x)\n",
        "    x = layers.Dense(512, activation=\"relu\")(x)\n",
        "    x = layers.Dropout(0.5)(x)\n",
        "    x = layers.Dense(10, activation=\"softmax\")(x)\n",
        "\n",
        "    # Configure the model\n",
        "    model = Model(baseModel.input, x)\n",
        "    \n",
        "    return model"
      ],
      "execution_count": null,
      "outputs": []
    },
    {
      "cell_type": "code",
      "metadata": {
        "id": "CyN0vpkt6x4p",
        "colab_type": "code",
        "colab": {}
      },
      "source": [
        "model = vgg_model(retrain = True)"
      ],
      "execution_count": null,
      "outputs": []
    },
    {
      "cell_type": "code",
      "metadata": {
        "id": "n4oUMoxk62CF",
        "colab_type": "code",
        "colab": {}
      },
      "source": [
        "model.summary()"
      ],
      "execution_count": null,
      "outputs": []
    },
    {
      "cell_type": "code",
      "metadata": {
        "id": "vORFLS4J7rVB",
        "colab_type": "code",
        "colab": {}
      },
      "source": [
        "plot_model(model, show_shapes=True)"
      ],
      "execution_count": null,
      "outputs": []
    },
    {
      "cell_type": "code",
      "metadata": {
        "id": "kg2ncei87vm2",
        "colab_type": "code",
        "colab": {}
      },
      "source": [
        "#Stop the optimization once the validation accuracy converges\n",
        "early_stopping = EarlyStopping(\n",
        "    monitor='val_acc', \n",
        "    verbose=1,\n",
        "    patience=5,\n",
        "    mode='max',\n",
        "    restore_best_weights=True)\n",
        "\n",
        "#Schedul the learning rate\n",
        "def scheduler(epoch):\n",
        "  '''\n",
        "  learning rate scheduler; keeps the learning rate 10^(-3) until 10 and then exponential decrease\n",
        "  '''\n",
        "  if epoch < 10:\n",
        "    return LR\n",
        "  else:\n",
        "    return LR * np.exp(0.1 * (10 - epoch))\n",
        "\n",
        "learning_rate_scheduler = LearningRateScheduler(scheduler)"
      ],
      "execution_count": null,
      "outputs": []
    },
    {
      "cell_type": "code",
      "metadata": {
        "id": "Mb4fuSRe7_ou",
        "colab_type": "code",
        "colab": {}
      },
      "source": [
        "model.compile(loss = 'categorical_crossentropy', optimizer=Adam(lr = LR), metrics=['acc'])"
      ],
      "execution_count": null,
      "outputs": []
    },
    {
      "cell_type": "code",
      "metadata": {
        "id": "pO-01nIn-gpA",
        "colab_type": "code",
        "colab": {}
      },
      "source": [
        "history = model.fit_generator(train_generator, epochs=40,validation_data = validation_generator,callbacks=[early_stopping, learning_rate_scheduler])"
      ],
      "execution_count": null,
      "outputs": []
    },
    {
      "cell_type": "code",
      "metadata": {
        "id": "-pUMSm3T8ooU",
        "colab_type": "code",
        "colab": {}
      },
      "source": [
        "def plot_history(history):\n",
        "  \n",
        "  plt.figure(figsize = (10,6))\n",
        "  plt.subplot(1,2,1)\n",
        "  plt.plot(history.history[\"loss\"], label = \"loss\", linewidth = 3)\n",
        "  plt.plot(history.history[\"val_loss\"], label = \"validation loss\", linewidth = 3)\n",
        "  plt.xlabel(\"epochs\")\n",
        "  plt.ylabel(\"Loss\")\n",
        "  plt.legend()\n",
        "\n",
        "  plt.subplot(1,2,2)\n",
        "  plt.plot(history.history[\"acc\"], label = \"accuracy\", linewidth = 3)\n",
        "  plt.plot(history.history[\"val_acc\"], label = \"validation accuracy\", linewidth = 3)\n",
        "  plt.xlabel(\"epochs\")\n",
        "  plt.ylabel(\"Accuracy\")\n",
        "  plt.legend()\n",
        "\n",
        "  return None"
      ],
      "execution_count": null,
      "outputs": []
    },
    {
      "cell_type": "code",
      "metadata": {
        "id": "Q8zIae1oRYVf",
        "colab_type": "code",
        "colab": {
          "base_uri": "https://localhost:8080/",
          "height": 388
        },
        "outputId": "89b53fc0-abe3-4493-8ea4-0f2cf4e6b765"
      },
      "source": [
        "plot_history(history)"
      ],
      "execution_count": 23,
      "outputs": [
        {
          "output_type": "display_data",
          "data": {
            "image/png": "[encoded data removed]",
            "text/plain": [
              "<Figure size 720x432 with 2 Axes>"
            ]
          },
          "metadata": {
            "tags": [],
            "needs_background": "light"
          }
        }
      ]
    },
    {
      "cell_type": "code",
      "metadata": {
        "id": "N7vwoVZc8Uj2",
        "colab_type": "code",
        "colab": {}
      },
      "source": [
        "model.save(\"sentinel2_land_use_vgg.h5\")"
      ],
      "execution_count": null,
      "outputs": []
    },
    {
      "cell_type": "code",
      "metadata": {
        "id": "VhdqdhLtTLfB",
        "colab_type": "code",
        "colab": {
          "base_uri": "https://localhost:8080/",
          "height": 17
        },
        "outputId": "96cabf50-27e4-4458-8f86-c150c440bd03"
      },
      "source": [
        "from google.colab import files\n",
        "files.download(\"sentinel2_land_use_vgg.h5\")"
      ],
      "execution_count": 31,
      "outputs": [
        {
          "output_type": "display_data",
          "data": {
            "application/javascript": [
              "\n",
              "    async function download(id, filename, size) {\n",
              "      if (!google.colab.kernel.accessAllowed) {\n",
              "        return;\n",
              "      }\n",
              "      const div = document.createElement('div');\n",
              "      const label = document.createElement('label');\n",
              "      label.textContent = `Downloading \"${filename}\": `;\n",
              "      div.appendChild(label);\n",
              "      const progress = document.createElement('progress');\n",
              "      progress.max = size;\n",
              "      div.appendChild(progress);\n",
              "      document.body.appendChild(div);\n",
              "\n",
              "      const buffers = [];\n",
              "      let downloaded = 0;\n",
              "\n",
              "      const channel = await google.colab.kernel.comms.open(id);\n",
              "      // Send a message to notify the kernel that we're ready.\n",
              "      channel.send({})\n",
              "\n",
              "      for await (const message of channel.messages) {\n",
              "        // Send a message to notify the kernel that we're ready.\n",
              "        channel.send({})\n",
              "        if (message.buffers) {\n",
              "          for (const buffer of message.buffers) {\n",
              "            buffers.push(buffer);\n",
              "            downloaded += buffer.byteLength;\n",
              "            progress.value = downloaded;\n",
              "          }\n",
              "        }\n",
              "      }\n",
              "      const blob = new Blob(buffers, {type: 'application/binary'});\n",
              "      const a = document.createElement('a');\n",
              "      a.href = window.URL.createObjectURL(blob);\n",
              "      a.download = filename;\n",
              "      div.appendChild(a);\n",
              "      a.click();\n",
              "      div.remove();\n",
              "    }\n",
              "  "
            ],
            "text/plain": [
              "<IPython.core.display.Javascript object>"
            ]
          },
          "metadata": {
            "tags": []
          }
        },
        {
          "output_type": "display_data",
          "data": {
            "application/javascript": [
              "download(\"download_7532421a-2bb4-47d5-a4ab-beb7d1dd2e5d\", \"sentinel2_land_use_vgg.h5\", 179936080)"
            ],
            "text/plain": [
              "<IPython.core.display.Javascript object>"
            ]
          },
          "metadata": {
            "tags": []
          }
        }
      ]
    },
    {
      "cell_type": "code",
      "metadata": {
        "id": "SsXD2x_yR0wA",
        "colab_type": "code",
        "colab": {
          "base_uri": "https://localhost:8080/",
          "height": 34
        },
        "outputId": "8570b02e-1b7d-4fb1-fb3e-f2b87c58f395"
      },
      "source": [
        "# save model in google drive\n",
        "from google.colab import drive\n",
        "drive.mount('/content/gdrive')"
      ],
      "execution_count": 26,
      "outputs": [
        {
          "output_type": "stream",
          "text": [
            "Mounted at /content/gdrive\n"
          ],
          "name": "stdout"
        }
      ]
    },
    {
      "cell_type": "code",
      "metadata": {
        "id": "a1FYxv8uSoYl",
        "colab_type": "code",
        "colab": {
          "base_uri": "https://localhost:8080/",
          "height": 34
        },
        "outputId": "0eb970cf-4d9b-4b37-80bb-b68406b4d6bb"
      },
      "source": [
        "!ls /content/gdrive/'My Drive'"
      ],
      "execution_count": 30,
      "outputs": [
        {
          "output_type": "stream",
          "text": [
            "'Colab Notebooks'\n"
          ],
          "name": "stdout"
        }
      ]
    },
    {
      "cell_type": "code",
      "metadata": {
        "id": "QmXySkwV9BrX",
        "colab_type": "code",
        "colab": {}
      },
      "source": [
        "# Testing generator\n",
        "testing_generator = datagen.flow_from_directory(\n",
        "                        base_dir, \n",
        "                        target_size=(IMG_WIDTH, IMG_HEIGHT),\n",
        "                        batch_size=BATCH_SIZE,\n",
        "                        class_mode='categorical',\n",
        "                        shuffle = False,\n",
        "                        subset='validation')\n",
        "test_labels = testing_generator.labels\n",
        "test_preds = model.predict_generator(testing_generator)\n",
        "#point-estimates!\n",
        "test_best = test_preds.argmax(axis = -1)"
      ],
      "execution_count": null,
      "outputs": []
    },
    {
      "cell_type": "code",
      "metadata": {
        "id": "o1DLYYHo9GrQ",
        "colab_type": "code",
        "colab": {}
      },
      "source": [
        "report = classification_report(test_labels,\n",
        "                               test_best,\n",
        "                               labels = np.arange(10),\n",
        "                               target_names = Classes)\n",
        "print(report)"
      ],
      "execution_count": null,
      "outputs": []
    },
    {
      "cell_type": "markdown",
      "metadata": {
        "id": "aSlf8DT8TrTS",
        "colab_type": "text"
      },
      "source": [
        "### Looking at activation map"
      ]
    },
    {
      "cell_type": "markdown",
      "metadata": {
        "id": "yengBWZTTi69",
        "colab_type": "text"
      },
      "source": [
        "Let's take a look at the activation maps! In particular, let's take the output of top layer before the Softmax layer. For any given image, this output should be 512 dimensional vector.\n",
        "\n",
        "Then we use the tSNE algorithm to reduce the dimensionality of these outputs.\n",
        "\n",
        "This help us figure out how well the Network can separate the different classes (SeaLakes, Forests, etc)."
      ]
    },
    {
      "cell_type": "code",
      "metadata": {
        "id": "PZFl8SRH9HX3",
        "colab_type": "code",
        "colab": {}
      },
      "source": [
        "layer_outputs = [layer.output for layer in model.layers][-2]\n",
        "activation_model = models.Model(inputs = model.input, outputs = layer_outputs)\n",
        "activation_map = activation_model.predict_generator(testing_generator)"
      ],
      "execution_count": null,
      "outputs": []
    },
    {
      "cell_type": "code",
      "metadata": {
        "id": "K92U-0QF9IYw",
        "colab_type": "code",
        "colab": {}
      },
      "source": [
        "print(\"shape of the out put matrix is = \" , activation_map.shape)"
      ],
      "execution_count": null,
      "outputs": []
    },
    {
      "cell_type": "code",
      "metadata": {
        "id": "V7S0YYYzEZxK",
        "colab_type": "code",
        "colab": {}
      },
      "source": [
        "activation_normalized = preprocessing.normalize(activation_map)"
      ],
      "execution_count": 38,
      "outputs": []
    },
    {
      "cell_type": "code",
      "metadata": {
        "id": "HNDFpTmLEbTQ",
        "colab_type": "code",
        "colab": {}
      },
      "source": [
        "tsne = TSNE(perplexity=200)\n",
        "activation_proj = tsne.fit_transform(activation_normalized)"
      ],
      "execution_count": 39,
      "outputs": []
    },
    {
      "cell_type": "code",
      "metadata": {
        "id": "6CLdxMF-Efhg",
        "colab_type": "code",
        "colab": {
          "base_uri": "https://localhost:8080/",
          "height": 623
        },
        "outputId": "160d1894-1b58-4121-abbd-7ea6038cb744"
      },
      "source": [
        "plt.figure(figsize  = (10,10))\n",
        "plt.scatter(activation_proj[:,0], activation_proj[:,1], c = test_labels, s = 2, cmap=plt.cm.get_cmap('viridis', 10))\n",
        "cb = plt.colorbar(label='Image Class')\n",
        "cb.ax.tick_params(labelsize='xx-large')\n",
        "plt.title(\"tSNE Projection of the Network activation map\", fontsize = 20)\n",
        "plt.axis('OFF')"
      ],
      "execution_count": 40,
      "outputs": [
        {
          "output_type": "execute_result",
          "data": {
            "text/plain": [
              "(-50.35542240142822, 48.48720874786377, -43.49557304382324, 45.34756278991699)"
            ]
          },
          "metadata": {
            "tags": []
          },
          "execution_count": 40
        },
        {
          "output_type": "display_data",
          "data": {
            "image/png": "[encoded data removed]",
            "text/plain": [
              "<Figure size 720x720 with 2 Axes>"
            ]
          },
          "metadata": {
            "tags": [],
            "needs_background": "light"
          }
        }
      ]
    },
    {
      "cell_type": "code",
      "metadata": {
        "id": "-TFOHs3FmKu3",
        "colab_type": "code",
        "colab": {}
      },
      "source": [
        ""
      ],
      "execution_count": null,
      "outputs": []
    },
    {
      "cell_type": "code",
      "metadata": {
        "id": "K7ytMwiSmGdH",
        "colab_type": "code",
        "colab": {}
      },
      "source": [
        ""
      ],
      "execution_count": null,
      "outputs": []
    }
  ]
}